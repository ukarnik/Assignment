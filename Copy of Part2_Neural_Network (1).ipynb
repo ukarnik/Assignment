{
  "nbformat": 4,
  "nbformat_minor": 0,
  "metadata": {
    "kernelspec": {
      "name": "python3",
      "display_name": "Python 3",
      "language": "python"
    },
    "language_info": {
      "mimetype": "text/x-python",
      "nbconvert_exporter": "python",
      "name": "python",
      "file_extension": ".py",
      "version": "3.5.4",
      "pygments_lexer": "ipython3",
      "codemirror_mode": {
        "version": 3,
        "name": "ipython"
      }
    },
    "colab": {
      "private_outputs": true,
      "provenance": []
    },
    "accelerator": "GPU"
  },
  "cells": [
    {
      "cell_type": "markdown",
      "metadata": {
        "id": "4qhcWwAKFEIG"
      },
      "source": [
        "# Part 1: Neural Network"
      ]
    },
    {
      "cell_type": "code",
      "source": [
        "from google.colab import drive\n",
        "drive.mount('/content/gdrive')"
      ],
      "metadata": {
        "id": "Ts1VjSOtY2kR"
      },
      "execution_count": null,
      "outputs": []
    },
    {
      "cell_type": "markdown",
      "metadata": {
        "id": "rtHqhlc-FEII"
      },
      "source": [
        "### Importing libraries"
      ]
    },
    {
      "cell_type": "code",
      "metadata": {
        "trusted": true,
        "id": "KEkma5E_FEIJ"
      },
      "source": [
        "import warnings\n",
        "warnings.filterwarnings('ignore')\n",
        "\n",
        "import numpy as np\n",
        "import matplotlib.pyplot as plt\n",
        "import keras\n",
        "from keras.datasets import mnist\n",
        "from keras.models import Sequential,model_from_json\n",
        "from keras.layers import Dense\n",
        "from keras.optimizers import RMSprop\n",
        "import pylab as plt"
      ],
      "execution_count": null,
      "outputs": []
    },
    {
      "cell_type": "markdown",
      "metadata": {
        "id": "2Y2S4DW-FEIK"
      },
      "source": [
        "#### Keras is the deep learning library that helps you to code Deep Neural Networks with fewer lines of code "
      ]
    },
    {
      "cell_type": "markdown",
      "metadata": {
        "id": "hl6X0bn4FEIK"
      },
      "source": [
        "### Import data"
      ]
    },
    {
      "cell_type": "code",
      "metadata": {
        "trusted": true,
        "id": "xJu7khM8FEIK"
      },
      "source": [
        "batch_size = 128\n",
        "num_classes = 10\n",
        "epochs = 2\n",
        "\n",
        "# the data, split between train and test sets\n",
        "(x_train, y_train), (x_test, y_test) = mnist.load_data()\n",
        "\n",
        "x_train = x_train.reshape(60000, 784)\n",
        "x_test = x_test.reshape(10000, 784)\n",
        "x_train = x_train.astype('float32')\n",
        "x_test = x_test.astype('float32')\n",
        "\n",
        "# Normalize to 0 to 1 range\n",
        "x_train /= 255\n",
        "x_test /= 255\n",
        "\n",
        "print(x_train.shape[0], 'train samples')\n",
        "print(x_test.shape[0], 'test samples')\n",
        "# convert class vectors to binary class matrices\n",
        "y_train = keras.utils.to_categorical(y_train, num_classes)\n",
        "y_test = keras.utils.to_categorical(y_test, num_classes)"
      ],
      "execution_count": null,
      "outputs": []
    },
    {
      "cell_type": "markdown",
      "metadata": {
        "id": "6MRnvo6uFEIL"
      },
      "source": [
        "### Visualize Data"
      ]
    },
    {
      "cell_type": "code",
      "metadata": {
        "scrolled": true,
        "trusted": true,
        "id": "mSDogZSXFEIL"
      },
      "source": [
        "print(\"Label:\",y_test[12:13])\n",
        "plt.imshow(x_test[12:13].reshape(28,28), cmap='gray')\n",
        "plt.show()"
      ],
      "execution_count": null,
      "outputs": []
    },
    {
      "cell_type": "markdown",
      "metadata": {
        "id": "LxehVPPuFEIM"
      },
      "source": [
        "#### Note: Images are also considered as numerical matrices"
      ]
    },
    {
      "cell_type": "markdown",
      "metadata": {
        "id": "MJPVBbSNFEIM"
      },
      "source": [
        "### Design a model"
      ]
    },
    {
      "cell_type": "code",
      "metadata": {
        "scrolled": true,
        "trusted": true,
        "id": "b_sbKpdxFEIM"
      },
      "source": [
        "first_layer_size = 32\n",
        "model = Sequential()\n",
        "model.add(Dense(first_layer_size, activation='sigmoid', input_shape=(784,)))\n",
        "model.add(Dense(32, activation='sigmoid'))\n",
        "model.add(Dense(32, activation='sigmoid'))\n",
        "model.add(Dense(num_classes, activation='softmax'))\n",
        "\n",
        "model.summary()"
      ],
      "execution_count": null,
      "outputs": []
    },
    {
      "cell_type": "markdown",
      "metadata": {
        "id": "E6U5RezQFEIM"
      },
      "source": [
        "### Weights before Training"
      ]
    },
    {
      "cell_type": "code",
      "metadata": {
        "trusted": true,
        "id": "aTcHUqNgFEIN"
      },
      "source": [
        "w = []\n",
        "for layer in model.layers:\n",
        "    weights = layer.get_weights()\n",
        "    w.append(weights)\n",
        "\n",
        "layer1 = np.array(w[0][0])\n",
        "print(\"Shape of First Layer\",layer1.shape)\n",
        "print(\"Visualization of First Layer\")\n",
        "fig=plt.figure(figsize=(12, 12))\n",
        "columns = 8\n",
        "rows = int(first_layer_size/8)\n",
        "for i in range(1, columns*rows +1):\n",
        "    fig.add_subplot(rows, columns, i)\n",
        "    plt.imshow(layer1[:,i-1].reshape(28,28),cmap='gray')\n",
        "plt.show()"
      ],
      "execution_count": null,
      "outputs": []
    },
    {
      "cell_type": "markdown",
      "metadata": {
        "id": "UMr856SjFEIN"
      },
      "source": [
        "### Compiling a Model"
      ]
    },
    {
      "cell_type": "code",
      "metadata": {
        "scrolled": false,
        "trusted": true,
        "id": "gWg-aiQuFEIN"
      },
      "source": [
        "model.compile(loss='categorical_crossentropy',\n",
        "              optimizer=RMSprop(),\n",
        "              metrics=['accuracy'])"
      ],
      "execution_count": null,
      "outputs": []
    },
    {
      "cell_type": "markdown",
      "metadata": {
        "id": "8xLSVEFHFEIN"
      },
      "source": [
        "### Training"
      ]
    },
    {
      "cell_type": "code",
      "metadata": {
        "trusted": true,
        "id": "HfTB7_4FFEIN"
      },
      "source": [
        "# Write the Training input and output variables, size of the batch, number of epochs\n",
        "history = model.fit(x_train,y_train,\n",
        "                    batch_size=batch_size,\n",
        "                    epochs=5,\n",
        "                    verbose=1)"
      ],
      "execution_count": null,
      "outputs": []
    },
    {
      "cell_type": "markdown",
      "metadata": {
        "id": "5uBO1H9oFEIO"
      },
      "source": [
        "### Testing"
      ]
    },
    {
      "cell_type": "code",
      "metadata": {
        "trusted": true,
        "id": "5pypLCpCFEIO"
      },
      "source": [
        "# Write the testing input and output variables\n",
        "score = model.evaluate(x_test, y_test, verbose=0)\n",
        "print('Test loss:', score[0])\n",
        "print('Test accuracy:', score[1])"
      ],
      "execution_count": null,
      "outputs": []
    },
    {
      "cell_type": "markdown",
      "metadata": {
        "id": "qjkx2nTDFEIO"
      },
      "source": [
        "### Weights after Training"
      ]
    },
    {
      "cell_type": "code",
      "metadata": {
        "trusted": true,
        "id": "XFbeig6lFEIO"
      },
      "source": [
        "w = []\n",
        "for layer in model.layers:\n",
        "    weights = layer.get_weights()\n",
        "    w.append(weights)\n",
        "\n",
        "layer1 = np.array(w[0][0])\n",
        "print(\"Shape of First Layer\",layer1.shape)\n",
        "print(\"Visualization of First Layer\")\n",
        "fig=plt.figure(figsize=(12, 12))\n",
        "columns = 8\n",
        "rows = int(first_layer_size/8)\n",
        "for i in range(1, columns*rows +1):\n",
        "    fig.add_subplot(rows, columns, i)\n",
        "    plt.imshow(layer1[:,i-1].reshape(28,28),cmap='gray')\n",
        "plt.show()"
      ],
      "execution_count": null,
      "outputs": []
    },
    {
      "cell_type": "markdown",
      "metadata": {
        "id": "aty6ZIQNFEIP"
      },
      "source": [
        "### Take away\n",
        "* This internal representation reflects Latent Variables\n",
        "* Each of the nodes will look for a specific pattern in the input\n",
        "* A node will get activated if input is similar to the feature it looks for\n",
        "* Each node is unique and often orthogonal to each other"
      ]
    },
    {
      "cell_type": "markdown",
      "metadata": {
        "id": "J6L4eE2RFEIP"
      },
      "source": [
        "### Prediction"
      ]
    },
    {
      "cell_type": "code",
      "metadata": {
        "trusted": true,
        "id": "vJiZ5-4dFEIP"
      },
      "source": [
        "# Write the index of the test sample to test\n",
        "prediction = model.predict(x_test[88:89])\n",
        "prediction = prediction[0]\n",
        "print('Prediction\\n',prediction)\n",
        "print('\\nThresholded output\\n',(prediction>0.5)*1)"
      ],
      "execution_count": null,
      "outputs": []
    },
    {
      "cell_type": "markdown",
      "metadata": {
        "id": "DumbKqFCFEIP"
      },
      "source": [
        "### Ground truth"
      ]
    },
    {
      "cell_type": "code",
      "metadata": {
        "trusted": true,
        "id": "x2wmBj9JFEIQ"
      },
      "source": [
        "# Write the index of the test sample to show\n",
        "plt.imshow(x_test[88:89].reshape(28,28),cmap='gray')\n",
        "plt.show()"
      ],
      "execution_count": null,
      "outputs": []
    },
    {
      "cell_type": "markdown",
      "metadata": {
        "id": "GSkEKt32FEIQ"
      },
      "source": [
        "### User Input"
      ]
    },
    {
      "cell_type": "code",
      "metadata": {
        "trusted": true,
        "id": "hkS0Fmw5FEIQ"
      },
      "source": [
        "# Load library\n",
        "import cv2\n",
        "import numpy as np\n",
        "from matplotlib import pyplot as plt\n",
        "\n",
        "# Load image in color\n",
        "image_bgr = cv2.imread('/content/gdrive/MyDrive/Machine Learning lab/digit.jpg', cv2.IMREAD_COLOR)\n",
        "# Convert to RGB\n",
        "image_rgb = cv2.cvtColor(image_bgr, cv2.COLOR_BGR2RGB)\n",
        "\n",
        "# Show image\n",
        "plt.imshow(image_rgb), plt.axis(\"off\")\n",
        "plt.show()"
      ],
      "execution_count": null,
      "outputs": []
    },
    {
      "cell_type": "markdown",
      "metadata": {
        "id": "2_CTAFYJFEIQ"
      },
      "source": [
        "### Convert to grayscale and resize"
      ]
    },
    {
      "cell_type": "code",
      "metadata": {
        "trusted": true,
        "id": "FSYulZdyFEIQ"
      },
      "source": [
        "# Load image as grayscale\n",
        "\n",
        "# Write the path to the image\n",
        "\n",
        "image = cv2.imread('/content/gdrive/MyDrive/Machine Learning lab/digit.jpg', cv2.IMREAD_GRAYSCALE)\n",
        "image_resized = cv2.resize(image, (28, 28)) \n",
        "# Show image\n",
        "plt.imshow(image_resized, cmap='gray'), plt.axis(\"off\")\n",
        "plt.show()"
      ],
      "execution_count": null,
      "outputs": []
    },
    {
      "cell_type": "markdown",
      "metadata": {
        "id": "yLAZfcSAFEIR"
      },
      "source": [
        "### Prediction"
      ]
    },
    {
      "cell_type": "code",
      "metadata": {
        "scrolled": true,
        "trusted": true,
        "id": "fsBP8M6IFEIR"
      },
      "source": [
        "prediction = model.predict(image_resized.reshape(1,784))\n",
        "print('Prediction Score:\\n',prediction[0])\n",
        "thresholded = (prediction>0.5)*1\n",
        "print('\\nThresholded Score:\\n',thresholded[0])\n",
        "print('\\nPredicted Digit:\\n',np.where(thresholded == 1)[1][0])"
      ],
      "execution_count": null,
      "outputs": []
    },
    {
      "cell_type": "markdown",
      "metadata": {
        "id": "b1xRpdfCFEIR"
      },
      "source": [
        "# Part 2: Saving, Loading and Retraining Models"
      ]
    },
    {
      "cell_type": "markdown",
      "metadata": {
        "id": "ucRWaq64FEIR"
      },
      "source": [
        "### Saving a model"
      ]
    },
    {
      "cell_type": "code",
      "metadata": {
        "scrolled": true,
        "trusted": false,
        "id": "uwsnGMXgFEIS"
      },
      "source": [
        "# serialize model to JSON\n",
        "model_json = model.to_json()\n",
        "\n",
        "# Write the file name of the model\n",
        "\n",
        "with open(\"model.json\", \"w\") as json_file:\n",
        "    json_file.write(model_json)\n",
        "    \n",
        "# serialize weights to HDF5\n",
        "# Write the file name of the weights\n",
        "\n",
        "model.save_weights(\"model.h5\")\n",
        "print(\"Saved model to disk\")"
      ],
      "execution_count": null,
      "outputs": []
    },
    {
      "cell_type": "markdown",
      "metadata": {
        "id": "yyvglNdDFEIS"
      },
      "source": [
        "### Loading a model"
      ]
    },
    {
      "cell_type": "code",
      "metadata": {
        "scrolled": true,
        "trusted": true,
        "id": "bdghKtlaFEIS"
      },
      "source": [
        "# load json and create model\n",
        "\n",
        "# Write the file name of the model\n",
        "\n",
        "json_file = open('model.json', 'r')\n",
        "loaded_model_json = json_file.read()\n",
        "json_file.close()\n",
        "loaded_model = model_from_json(loaded_model_json)\n",
        "\n",
        "# load weights into new model\n",
        "# Write the file name of the weights\n",
        "\n",
        "loaded_model.load_weights(\"model.h5\")\n",
        "print(\"Loaded model from disk\")"
      ],
      "execution_count": null,
      "outputs": []
    },
    {
      "cell_type": "markdown",
      "metadata": {
        "id": "Vv54s0VLFEIS"
      },
      "source": [
        "### Retraining a model"
      ]
    },
    {
      "cell_type": "code",
      "metadata": {
        "trusted": true,
        "id": "gjLCF4RNFEIS"
      },
      "source": [
        "loaded_model.compile(loss='categorical_crossentropy', optimizer=RMSprop(), metrics=['accuracy'])\n",
        "\n",
        "history = loaded_model.fit(x_train, y_train, batch_size=batch_size, epochs=epochs, verbose=1)\n",
        "score = loaded_model.evaluate(x_test, y_test, verbose=0)\n",
        "print('Test loss:', score[0])\n",
        "print('Test accuracy:', score[1])"
      ],
      "execution_count": null,
      "outputs": []
    },
    {
      "cell_type": "markdown",
      "metadata": {
        "id": "wcjiABWDFEIT"
      },
      "source": [
        "### Saving a model and resuming the training later is the great relief in training large neural networks !"
      ]
    },
    {
      "cell_type": "markdown",
      "metadata": {
        "id": "HpWbwtp4FEIT"
      },
      "source": [
        "# Part 3: Activation Functions"
      ]
    },
    {
      "cell_type": "markdown",
      "metadata": {
        "id": "Ganufu1rFEIU"
      },
      "source": [
        "### Sigmoid Activation Function"
      ]
    },
    {
      "cell_type": "code",
      "metadata": {
        "trusted": true,
        "id": "ezM87Pk_FEIU"
      },
      "source": [
        "model = Sequential()\n",
        "model.add(Dense(8, activation='sigmoid', input_shape=(784,)))\n",
        "model.add(Dense(8, activation='sigmoid'))\n",
        "model.add(Dense(num_classes, activation='softmax'))\n",
        "\n",
        "model.summary()\n",
        "model.compile(loss='categorical_crossentropy',\n",
        "              optimizer=RMSprop(),\n",
        "              metrics=['accuracy'])\n",
        "\n",
        "history = model.fit(x_train, y_train,\n",
        "                    batch_size=batch_size,\n",
        "                    epochs=10,\n",
        "                    verbose=1,\n",
        "                    validation_data=(x_test, y_test))\n",
        "score = model.evaluate(x_test, y_test, verbose=0)\n",
        "print('Test loss:', score[0])\n",
        "print('Test accuracy:', score[1])"
      ],
      "execution_count": null,
      "outputs": []
    },
    {
      "cell_type": "markdown",
      "metadata": {
        "id": "nFkJfgbJFEIU"
      },
      "source": [
        "### Relu Activation Function"
      ]
    },
    {
      "cell_type": "code",
      "metadata": {
        "trusted": false,
        "id": "KFaORE6uFEIU"
      },
      "source": [
        "# Write your code here \n",
        "\n",
        "# Use the same model design from the above cell "
      ],
      "execution_count": null,
      "outputs": []
    },
    {
      "cell_type": "markdown",
      "metadata": {
        "id": "mbq2j38NFEIU"
      },
      "source": [
        "### What are your findings?"
      ]
    },
    {
      "cell_type": "markdown",
      "metadata": {
        "id": "WrIs8Y1zFEIV"
      },
      "source": [
        "### Other Activation Functions\n",
        "* model.add(Dense(8, activation='tanh'))\n",
        "* model.add(Dense(8, activation='linear'))\n",
        "* model.add(Dense(8, activation='hard_sigmoid'))"
      ]
    },
    {
      "cell_type": "markdown",
      "metadata": {
        "id": "IzshNDXnFEIV"
      },
      "source": [
        "### Tips\n",
        "* Relu is commonly used in most hidden layers\n",
        "* In case of dead neurons, use leaky Relu"
      ]
    },
    {
      "cell_type": "markdown",
      "metadata": {
        "id": "VfMgFbXyFEIV"
      },
      "source": [
        "# Part 4: Design Choices in Neural Networks"
      ]
    },
    {
      "cell_type": "markdown",
      "metadata": {
        "id": "NMD1ZXK-FEIV"
      },
      "source": [
        "### Design a model with Low Number of Nodes. For Example 8"
      ]
    },
    {
      "cell_type": "code",
      "metadata": {
        "trusted": false,
        "id": "pLxQRwnZFEIV"
      },
      "source": [
        "first_layer_size = 8\n",
        "\n",
        "model = Sequential()\n",
        "model.add(Dense(first_layer_size, activation='sigmoid', input_shape=(784,)))\n",
        "model.add(Dense(32, activation='sigmoid'))\n",
        "model.add(Dense(num_classes, activation='softmax'))\n",
        "\n",
        "model.summary()\n",
        "model.compile(loss='categorical_crossentropy',\n",
        "              optimizer=RMSprop(),\n",
        "              metrics=['accuracy'])\n",
        "\n",
        "history = model.fit(x_train, y_train,\n",
        "                    batch_size=batch_size,\n",
        "                    epochs=epochs,\n",
        "                    verbose=1,\n",
        "                    validation_data=(x_test, y_test))\n",
        "score = model.evaluate(x_test, y_test, verbose=0)\n",
        "print('Test loss:', score[0])\n",
        "print('Test accuracy:', score[1])\n",
        "\n",
        "w = []\n",
        "for layer in model.layers:\n",
        "    weights = layer.get_weights()\n",
        "    w.append(weights)\n",
        "\n",
        "layer1 = np.array(w[0][0])\n",
        "print(\"Shape of First Layer\",layer1.shape)\n",
        "print(\"Visualization of First Layer\")\n",
        "\n",
        "import matplotlib.pyplot as plt\n",
        "fig=plt.figure(figsize=(16, 16))\n",
        "columns = 8\n",
        "rows = int(first_layer_size/8)\n",
        "for i in range(1, columns*rows +1):\n",
        "    fig.add_subplot(rows, columns, i)\n",
        "    plt.imshow(layer1[:,i-1].reshape(28,28),cmap='gray')\n",
        "plt.show()"
      ],
      "execution_count": null,
      "outputs": []
    },
    {
      "cell_type": "markdown",
      "metadata": {
        "id": "h-niSg5UFEIW"
      },
      "source": [
        "### Design a model with Higher Number of Nodes. For example 128"
      ]
    },
    {
      "cell_type": "code",
      "metadata": {
        "trusted": false,
        "id": "44zDtnBmFEIW"
      },
      "source": [
        "# Write your code here \n",
        "\n",
        "# Use the same layer design from the above cell "
      ],
      "execution_count": null,
      "outputs": []
    },
    {
      "cell_type": "markdown",
      "metadata": {
        "id": "ELPf99NhFEIW"
      },
      "source": [
        "### Lower number of Layers. For example 1 hidden layer"
      ]
    },
    {
      "cell_type": "code",
      "metadata": {
        "trusted": true,
        "id": "BhAVuwoQFEIW"
      },
      "source": [
        "model = Sequential()\n",
        "model.add(Dense(8, activation='relu', input_shape=(784,)))\n",
        "model.add(Dense(8, activation='relu'))\n",
        "model.add(Dense(8, activation='relu'))\n",
        "model.add(Dense(8, activation='relu'))\n",
        "model.add(Dense(8, activation='relu'))\n",
        "model.add(Dense(8, activation='relu'))\n",
        "model.add(Dense(8, activation='relu'))\n",
        "model.add(Dense(8, activation='relu'))\n",
        "model.add(Dense(8, activation='relu'))\n",
        "model.add(Dense(8, activation='relu'))\n",
        "model.add(Dense(8, activation='relu'))\n",
        "model.add(Dense(8, activation='relu'))\n",
        "model.add(Dense(8, activation='relu'))\n",
        "model.add(Dense(8, activation='relu'))\n",
        "model.add(Dense(8, activation='relu'))\n",
        "model.add(Dense(8, activation='relu'))\n",
        "model.add(Dense(8, activation='relu'))\n",
        "model.add(Dense(8, activation='relu'))\n",
        "model.add(Dense(8, activation='relu'))\n",
        "model.add(Dense(num_classes, activation='softmax'))\n",
        "\n",
        "model.summary()\n",
        "model.compile(loss='categorical_crossentropy',\n",
        "              optimizer=RMSprop(),\n",
        "              metrics=['accuracy'])\n",
        "\n",
        "history = model.fit(x_train, y_train,\n",
        "                    batch_size=batch_size,\n",
        "                    epochs=4,\n",
        "                    verbose=1,\n",
        "                    validation_data=(x_test, y_test))\n",
        "score = model.evaluate(x_test, y_test, verbose=0)\n",
        "print('Test loss:', score[0])\n",
        "print('Test accuracy:', score[1])"
      ],
      "execution_count": null,
      "outputs": []
    },
    {
      "cell_type": "markdown",
      "metadata": {
        "id": "OiAw6MXJFEIW"
      },
      "source": [
        "### Lower number of Layers. For example 4 hidden layers"
      ]
    },
    {
      "cell_type": "code",
      "metadata": {
        "trusted": false,
        "id": "s78cG1xpFEIX"
      },
      "source": [
        "# Write your code here \n",
        "\n",
        "# Use the same number of units from the above cell \n"
      ],
      "execution_count": null,
      "outputs": []
    },
    {
      "cell_type": "markdown",
      "metadata": {
        "id": "si9h2XJyFEIX"
      },
      "source": [
        "### Tips\n",
        "* Choice of number of nodes and layers are application oriented i.e. trial and error\n",
        "* Designing a neural network and reasoning the results is more of an art than a science"
      ]
    }
  ]
}